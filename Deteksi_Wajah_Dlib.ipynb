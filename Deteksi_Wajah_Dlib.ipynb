{
  "nbformat": 4,
  "nbformat_minor": 0,
  "metadata": {
    "colab": {
      "provenance": []
    },
    "kernelspec": {
      "name": "python3",
      "display_name": "Python 3"
    },
    "language_info": {
      "name": "python"
    }
  },
  "cells": [
    {
      "cell_type": "markdown",
      "source": [
        "Mendeteksi dan Mengekstrak Wajah dari Citra menggunakan Dlib"
      ],
      "metadata": {
        "id": "wWpuGcNuvdph"
      }
    },
    {
      "cell_type": "code",
      "execution_count": 2,
      "metadata": {
        "colab": {
          "base_uri": "https://localhost:8080/"
        },
        "id": "v1wRxhQJumOE",
        "outputId": "a98ec738-5355-4869-e9e1-113f3c7c58fe"
      },
      "outputs": [
        {
          "output_type": "stream",
          "name": "stdout",
          "text": [
            "Drive already mounted at /content/drive; to attempt to forcibly remount, call drive.mount(\"/content/drive\", force_remount=True).\n"
          ]
        }
      ],
      "source": [
        "from google.colab import drive\n",
        "drive.mount('/content/drive')"
      ]
    },
    {
      "cell_type": "code",
      "source": [
        "from imutils import face_utils\n",
        "import numpy as np\n",
        "import imutils\n",
        "import dlib\n",
        "import cv2\n",
        "\n",
        "detector = dlib.get_frontal_face_detector()\n",
        "predictor = dlib.shape_predictor(\"/content/drive/MyDrive/Unilak/KomputerVision/Tugas 4/shape_predictor_68_face_landmarks.dat\")\n",
        "\n",
        "image = cv2.imread(\"/content/drive/MyDrive/Unilak/KomputerVision/Tugas 4/parel.jpg\")\n",
        "\n",
        "gray = cv2.cvtColor(image, cv2.COLOR_BGR2GRAY)\n",
        "\n",
        "rects = detector(gray)\n",
        "\n",
        "for(i, rects) in enumerate(rects):\n",
        "  shape = predictor(gray, rects)\n",
        "  shape = face_utils.shape_to_np(shape)\n",
        "\n",
        "  (x, y, w, h) = cv2.boundingRect(np.array([shape]))\n",
        "  roi = image[y:y + h, x: x + w]\n",
        "\n",
        "  cv2.imwrite(\"/content/drive/MyDrive/Unilak/KomputerVision/Tugas 4/wajah.jpg\", roi)"
      ],
      "metadata": {
        "id": "7UXK2JfJuua6"
      },
      "execution_count": 3,
      "outputs": []
    }
  ]
}